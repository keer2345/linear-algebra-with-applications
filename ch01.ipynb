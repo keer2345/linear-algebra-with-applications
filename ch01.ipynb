{
 "cells": [
  {
   "cell_type": "markdown",
   "metadata": {},
   "source": [
    "# Matrices and Systems of Equations\n",
    "## Systems of Linear Equations\n",
    "\n",
    "The following are examples of linear systems:\n",
    "\n",
    "**(a)**\n",
    "$$\\begin{cases}\n",
    "x_1 + 2x_2 = 5\\\\\n",
    "2x_1 + 3x_2 = 8\\\\\n",
    "\\end{cases}\n",
    "$$\n",
    "\n",
    "**(b)**\n",
    "$$\\begin{cases}\n",
    "x_1 - x_2 + x_3 = 2\\\\\n",
    "2x_1 + x_2 - x_3 = 4\\\\\n",
    "\\end{cases}\n",
    "$$\n",
    "\n",
    "**(c)**\n",
    "$$\\begin{cases}\n",
    "x_1 + x_2 = 2\\\\ \n",
    "x_1 - x_2 = 1\\\\\n",
    "x_1       = 4\\\\\n",
    "\\end{cases}\n",
    "$$\n",
    "\n",
    "\n",
    "**(a)** is $2 \\times 2$, **(b)** is $2 \\times 3$, **(c)** is $3 \\times 2$ system.\n",
    "\n",
    "By a solution of an $m \\times n$ system, we means a ordered *n*-tuple of numbers of $(x_1,x_2,...,x_n)$ that satisfies all the equations of the system.\n",
    "\n",
    "### Equivalent Systems\n",
    "Two systems of equations involving the same variables are said to be **equivalent** if\n",
    "they have the same solution set.\n",
    "\n",
    "- **I**. The order in which any two equations are written may be interchanged.\n",
    "- **II**. Both sides of an equation may be multiplied by the same nonzero real number.\n",
    "- **III**. A multiple of one equation may be added to (or subtracted from) another."
   ]
  }
 ],
 "metadata": {
  "language_info": {
   "name": "python"
  },
  "orig_nbformat": 4
 },
 "nbformat": 4,
 "nbformat_minor": 2
}
