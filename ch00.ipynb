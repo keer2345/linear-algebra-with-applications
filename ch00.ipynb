{
 "cells": [
  {
   "cell_type": "markdown",
   "metadata": {},
   "source": [
    "\n",
    "## 环境与配置\n",
    "### Virtualenv\n",
    "``` shell\n",
    "sudo yay -S python-pip\n",
    "sudo pip install virtualenv\n",
    "``` \n",
    "``` shell\n",
    "virtualenv .venv\n",
    "source .venv/bin/activate\n",
    "pip install jupyter\n",
    "```\n",
    "### Jupyter & Markdown\n",
    "- [Jupyter中markdown的操作小技巧（上）](https://zhuanlan.zhihu.com/p/354383463)\n",
    "- [Jupyter中markdown的操作小技巧（下）](https://zhuanlan.zhihu.com/p/355338999)\n",
    "### 数学公式\n",
    "在markdown中插入数学公式，设置方式：\n",
    "- 正文中 `$...$`\n",
    "- 单独一行显示 `$$...$$`\n",
    "\n",
    "#### 快速编写数学公式的方法\n",
    "- [LaTeX公式编辑器](https://latexlive.com/)\n",
    "\n",
    "更多公式键入方法参考：\n",
    "- [在Markdown中输入数学公式(MathJax)](https://www.jianshu.com/p/a0aa94ef8ab2)\n",
    "- [Markdown系列（6）- 如何优雅地在Markdown中输入数学公式](https://blog.csdn.net/m0_37167788/article/details/78809779)\n",
    "- [MarkDown - Latex数学公式的整理](https://blog.csdn.net/m0_37167788/article/details/78559701)\n"
   ]
  }
 ],
 "metadata": {
  "kernelspec": {
   "display_name": "Python 3 (ipykernel)",
   "language": "python",
   "name": "python3"
  },
  "language_info": {
   "codemirror_mode": {
    "name": "ipython",
    "version": 3
   },
   "file_extension": ".py",
   "mimetype": "text/x-python",
   "name": "python",
   "nbconvert_exporter": "python",
   "pygments_lexer": "ipython3",
   "version": "3.10.4"
  }
 },
 "nbformat": 4,
 "nbformat_minor": 2
}
